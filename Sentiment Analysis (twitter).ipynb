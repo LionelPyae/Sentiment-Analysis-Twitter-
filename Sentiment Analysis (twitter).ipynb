{
 "cells": [
  {
   "cell_type": "code",
   "execution_count": 1,
   "metadata": {},
   "outputs": [],
   "source": [
    "import numpy as np"
   ]
  },
  {
   "cell_type": "code",
   "execution_count": 2,
   "metadata": {},
   "outputs": [],
   "source": [
    "import pandas as pd"
   ]
  },
  {
   "cell_type": "code",
   "execution_count": 3,
   "metadata": {},
   "outputs": [],
   "source": [
    "import seaborn as sns"
   ]
  },
  {
   "cell_type": "code",
   "execution_count": 4,
   "metadata": {},
   "outputs": [],
   "source": [
    "import matplotlib.pyplot as plt"
   ]
  },
  {
   "cell_type": "code",
   "execution_count": 5,
   "metadata": {},
   "outputs": [
    {
     "ename": "SyntaxError",
     "evalue": "invalid syntax (<ipython-input-5-a604cbf01528>, line 1)",
     "output_type": "error",
     "traceback": [
      "\u001b[1;36m  File \u001b[1;32m\"<ipython-input-5-a604cbf01528>\"\u001b[1;36m, line \u001b[1;32m1\u001b[0m\n\u001b[1;33m    import jupyterthemes import jtplot\u001b[0m\n\u001b[1;37m                              ^\u001b[0m\n\u001b[1;31mSyntaxError\u001b[0m\u001b[1;31m:\u001b[0m invalid syntax\n"
     ]
    }
   ],
   "source": [
    "import jupyterthemes import jtplot"
   ]
  },
  {
   "cell_type": "code",
   "execution_count": 6,
   "metadata": {},
   "outputs": [
    {
     "name": "stdout",
     "output_type": "stream",
     "text": [
      "Collecting jupyterthemes\n",
      "  Downloading jupyterthemes-0.20.0-py2.py3-none-any.whl (7.0 MB)\n",
      "Collecting lesscpy>=0.11.2\n",
      "  Downloading lesscpy-0.14.0-py2.py3-none-any.whl (46 kB)\n",
      "Requirement already satisfied: jupyter-core in c:\\users\\mi\\anaconda3\\lib\\site-packages (from jupyterthemes) (4.6.1)\n",
      "Requirement already satisfied: matplotlib>=1.4.3 in c:\\users\\mi\\anaconda3\\lib\\site-packages (from jupyterthemes) (3.1.3)\n",
      "Requirement already satisfied: ipython>=5.4.1 in c:\\users\\mi\\anaconda3\\lib\\site-packages (from jupyterthemes) (7.12.0)\n",
      "Requirement already satisfied: notebook>=5.6.0 in c:\\users\\mi\\anaconda3\\lib\\site-packages (from jupyterthemes) (6.0.3)\n",
      "Requirement already satisfied: ply in c:\\users\\mi\\anaconda3\\lib\\site-packages (from lesscpy>=0.11.2->jupyterthemes) (3.11)\n",
      "Requirement already satisfied: six in c:\\users\\mi\\anaconda3\\lib\\site-packages (from lesscpy>=0.11.2->jupyterthemes) (1.14.0)\n",
      "Requirement already satisfied: traitlets in c:\\users\\mi\\anaconda3\\lib\\site-packages (from jupyter-core->jupyterthemes) (4.3.3)\n",
      "Requirement already satisfied: pywin32>=1.0; sys_platform == \"win32\" in c:\\users\\mi\\anaconda3\\lib\\site-packages (from jupyter-core->jupyterthemes) (227)\n",
      "Requirement already satisfied: pyparsing!=2.0.4,!=2.1.2,!=2.1.6,>=2.0.1 in c:\\users\\mi\\anaconda3\\lib\\site-packages (from matplotlib>=1.4.3->jupyterthemes) (2.4.6)\n",
      "Requirement already satisfied: python-dateutil>=2.1 in c:\\users\\mi\\anaconda3\\lib\\site-packages (from matplotlib>=1.4.3->jupyterthemes) (2.8.1)\n",
      "Requirement already satisfied: cycler>=0.10 in c:\\users\\mi\\anaconda3\\lib\\site-packages (from matplotlib>=1.4.3->jupyterthemes) (0.10.0)\n",
      "Requirement already satisfied: kiwisolver>=1.0.1 in c:\\users\\mi\\anaconda3\\lib\\site-packages (from matplotlib>=1.4.3->jupyterthemes) (1.1.0)\n",
      "Requirement already satisfied: numpy>=1.11 in c:\\users\\mi\\anaconda3\\lib\\site-packages (from matplotlib>=1.4.3->jupyterthemes) (1.18.1)\n",
      "Requirement already satisfied: jedi>=0.10 in c:\\users\\mi\\anaconda3\\lib\\site-packages (from ipython>=5.4.1->jupyterthemes) (0.14.1)\n",
      "Requirement already satisfied: prompt-toolkit!=3.0.0,!=3.0.1,<3.1.0,>=2.0.0 in c:\\users\\mi\\anaconda3\\lib\\site-packages (from ipython>=5.4.1->jupyterthemes) (3.0.3)\n",
      "Requirement already satisfied: pygments in c:\\users\\mi\\anaconda3\\lib\\site-packages (from ipython>=5.4.1->jupyterthemes) (2.5.2)\n",
      "Requirement already satisfied: backcall in c:\\users\\mi\\anaconda3\\lib\\site-packages (from ipython>=5.4.1->jupyterthemes) (0.1.0)\n",
      "Requirement already satisfied: colorama; sys_platform == \"win32\" in c:\\users\\mi\\anaconda3\\lib\\site-packages (from ipython>=5.4.1->jupyterthemes) (0.4.3)\n",
      "Requirement already satisfied: setuptools>=18.5 in c:\\users\\mi\\anaconda3\\lib\\site-packages (from ipython>=5.4.1->jupyterthemes) (45.2.0.post20200210)\n",
      "Requirement already satisfied: decorator in c:\\users\\mi\\anaconda3\\lib\\site-packages (from ipython>=5.4.1->jupyterthemes) (4.4.1)\n",
      "Requirement already satisfied: pickleshare in c:\\users\\mi\\anaconda3\\lib\\site-packages (from ipython>=5.4.1->jupyterthemes) (0.7.5)\n",
      "Requirement already satisfied: terminado>=0.8.1 in c:\\users\\mi\\anaconda3\\lib\\site-packages (from notebook>=5.6.0->jupyterthemes) (0.8.3)\n",
      "Requirement already satisfied: pyzmq>=17 in c:\\users\\mi\\anaconda3\\lib\\site-packages (from notebook>=5.6.0->jupyterthemes) (18.1.1)\n",
      "Requirement already satisfied: Send2Trash in c:\\users\\mi\\anaconda3\\lib\\site-packages (from notebook>=5.6.0->jupyterthemes) (1.5.0)\n",
      "Requirement already satisfied: jinja2 in c:\\users\\mi\\anaconda3\\lib\\site-packages (from notebook>=5.6.0->jupyterthemes) (2.11.1)\n",
      "Requirement already satisfied: nbformat in c:\\users\\mi\\anaconda3\\lib\\site-packages (from notebook>=5.6.0->jupyterthemes) (5.0.4)\n",
      "Requirement already satisfied: ipykernel in c:\\users\\mi\\anaconda3\\lib\\site-packages (from notebook>=5.6.0->jupyterthemes) (5.1.4)\n",
      "Requirement already satisfied: prometheus-client in c:\\users\\mi\\anaconda3\\lib\\site-packages (from notebook>=5.6.0->jupyterthemes) (0.7.1)\n",
      "Requirement already satisfied: tornado>=5.0 in c:\\users\\mi\\anaconda3\\lib\\site-packages (from notebook>=5.6.0->jupyterthemes) (6.0.3)\n",
      "Requirement already satisfied: nbconvert in c:\\users\\mi\\anaconda3\\lib\\site-packages (from notebook>=5.6.0->jupyterthemes) (5.6.1)\n",
      "Requirement already satisfied: ipython-genutils in c:\\users\\mi\\anaconda3\\lib\\site-packages (from notebook>=5.6.0->jupyterthemes) (0.2.0)\n",
      "Requirement already satisfied: jupyter-client>=5.3.4 in c:\\users\\mi\\anaconda3\\lib\\site-packages (from notebook>=5.6.0->jupyterthemes) (5.3.4)\n",
      "Requirement already satisfied: parso>=0.5.0 in c:\\users\\mi\\anaconda3\\lib\\site-packages (from jedi>=0.10->ipython>=5.4.1->jupyterthemes) (0.5.2)\n",
      "Requirement already satisfied: wcwidth in c:\\users\\mi\\anaconda3\\lib\\site-packages (from prompt-toolkit!=3.0.0,!=3.0.1,<3.1.0,>=2.0.0->ipython>=5.4.1->jupyterthemes) (0.1.8)\n",
      "Requirement already satisfied: MarkupSafe>=0.23 in c:\\users\\mi\\anaconda3\\lib\\site-packages (from jinja2->notebook>=5.6.0->jupyterthemes) (1.1.1)\n",
      "Requirement already satisfied: jsonschema!=2.5.0,>=2.4 in c:\\users\\mi\\anaconda3\\lib\\site-packages (from nbformat->notebook>=5.6.0->jupyterthemes) (3.2.0)\n",
      "Requirement already satisfied: entrypoints>=0.2.2 in c:\\users\\mi\\anaconda3\\lib\\site-packages (from nbconvert->notebook>=5.6.0->jupyterthemes) (0.3)\n",
      "Requirement already satisfied: pandocfilters>=1.4.1 in c:\\users\\mi\\anaconda3\\lib\\site-packages (from nbconvert->notebook>=5.6.0->jupyterthemes) (1.4.2)\n",
      "Requirement already satisfied: testpath in c:\\users\\mi\\anaconda3\\lib\\site-packages (from nbconvert->notebook>=5.6.0->jupyterthemes) (0.4.4)\n",
      "Requirement already satisfied: bleach in c:\\users\\mi\\anaconda3\\lib\\site-packages (from nbconvert->notebook>=5.6.0->jupyterthemes) (3.1.0)\n",
      "Requirement already satisfied: defusedxml in c:\\users\\mi\\anaconda3\\lib\\site-packages (from nbconvert->notebook>=5.6.0->jupyterthemes) (0.6.0)\n",
      "Requirement already satisfied: mistune<2,>=0.8.1 in c:\\users\\mi\\anaconda3\\lib\\site-packages (from nbconvert->notebook>=5.6.0->jupyterthemes) (0.8.4)\n",
      "Requirement already satisfied: importlib-metadata; python_version < \"3.8\" in c:\\users\\mi\\anaconda3\\lib\\site-packages (from jsonschema!=2.5.0,>=2.4->nbformat->notebook>=5.6.0->jupyterthemes) (1.5.0)\n",
      "Requirement already satisfied: pyrsistent>=0.14.0 in c:\\users\\mi\\anaconda3\\lib\\site-packages (from jsonschema!=2.5.0,>=2.4->nbformat->notebook>=5.6.0->jupyterthemes) (0.15.7)\n",
      "Requirement already satisfied: attrs>=17.4.0 in c:\\users\\mi\\anaconda3\\lib\\site-packages (from jsonschema!=2.5.0,>=2.4->nbformat->notebook>=5.6.0->jupyterthemes) (19.3.0)\n",
      "Requirement already satisfied: webencodings in c:\\users\\mi\\anaconda3\\lib\\site-packages (from bleach->nbconvert->notebook>=5.6.0->jupyterthemes) (0.5.1)\n",
      "Requirement already satisfied: zipp>=0.5 in c:\\users\\mi\\anaconda3\\lib\\site-packages (from importlib-metadata; python_version < \"3.8\"->jsonschema!=2.5.0,>=2.4->nbformat->notebook>=5.6.0->jupyterthemes) (2.2.0)\n",
      "Installing collected packages: lesscpy, jupyterthemes\n",
      "Successfully installed jupyterthemes-0.20.0 lesscpy-0.14.0\n"
     ]
    }
   ],
   "source": [
    "!pip install jupyterthemes"
   ]
  },
  {
   "cell_type": "code",
   "execution_count": 7,
   "metadata": {},
   "outputs": [
    {
     "ename": "ModuleNotFoundError",
     "evalue": "No module named 'jypyterthemes'",
     "output_type": "error",
     "traceback": [
      "\u001b[1;31m---------------------------------------------------------------------------\u001b[0m",
      "\u001b[1;31mModuleNotFoundError\u001b[0m                       Traceback (most recent call last)",
      "\u001b[1;32m<ipython-input-7-9d7015800cef>\u001b[0m in \u001b[0;36m<module>\u001b[1;34m\u001b[0m\n\u001b[1;32m----> 1\u001b[1;33m \u001b[1;32mfrom\u001b[0m \u001b[0mjypyterthemes\u001b[0m \u001b[1;32mimport\u001b[0m \u001b[0mjtplot\u001b[0m\u001b[1;33m\u001b[0m\u001b[1;33m\u001b[0m\u001b[0m\n\u001b[0m",
      "\u001b[1;31mModuleNotFoundError\u001b[0m: No module named 'jypyterthemes'"
     ]
    }
   ],
   "source": []
  },
  {
   "cell_type": "code",
   "execution_count": 8,
   "metadata": {},
   "outputs": [],
   "source": [
    "from jupyterthemes import jtplot\n",
    "jtplot.style(theme = 'monokai', context = 'notebook', ticks = True, grid = False)"
   ]
  },
  {
   "cell_type": "code",
   "execution_count": 9,
   "metadata": {},
   "outputs": [
    {
     "name": "stdout",
     "output_type": "stream",
     "text": [
      "Collecting jupyter-contrib-nbextensions\n",
      "  Downloading jupyter_contrib_nbextensions-0.5.1-py2.py3-none-any.whl (20.9 MB)\n",
      "Requirement already satisfied: nbconvert>=4.2 in c:\\users\\mi\\anaconda3\\lib\\site-packages (from jupyter-contrib-nbextensions) (5.6.1)\n",
      "Requirement already satisfied: pyyaml in c:\\users\\mi\\anaconda3\\lib\\site-packages (from jupyter-contrib-nbextensions) (5.3)\n",
      "Collecting jupyter-nbextensions-configurator>=0.4.0\n",
      "  Downloading jupyter_nbextensions_configurator-0.4.1.tar.gz (479 kB)\n",
      "Requirement already satisfied: traitlets>=4.1 in c:\\users\\mi\\anaconda3\\lib\\site-packages (from jupyter-contrib-nbextensions) (4.3.3)\n",
      "Requirement already satisfied: ipython-genutils in c:\\users\\mi\\anaconda3\\lib\\site-packages (from jupyter-contrib-nbextensions) (0.2.0)\n",
      "Requirement already satisfied: lxml in c:\\users\\mi\\anaconda3\\lib\\site-packages (from jupyter-contrib-nbextensions) (4.5.0)\n",
      "Requirement already satisfied: notebook>=4.0 in c:\\users\\mi\\anaconda3\\lib\\site-packages (from jupyter-contrib-nbextensions) (6.0.3)\n",
      "Collecting jupyter-highlight-selected-word>=0.1.1\n",
      "  Downloading jupyter_highlight_selected_word-0.2.0-py2.py3-none-any.whl (11 kB)\n",
      "Requirement already satisfied: tornado in c:\\users\\mi\\anaconda3\\lib\\site-packages (from jupyter-contrib-nbextensions) (6.0.3)\n",
      "Collecting jupyter-contrib-core>=0.3.3\n",
      "  Downloading jupyter_contrib_core-0.3.3-py2.py3-none-any.whl (18 kB)\n",
      "Collecting jupyter-latex-envs>=1.3.8\n",
      "  Downloading jupyter_latex_envs-1.4.6.tar.gz (861 kB)\n",
      "Requirement already satisfied: jupyter-core in c:\\users\\mi\\anaconda3\\lib\\site-packages (from jupyter-contrib-nbextensions) (4.6.1)\n",
      "Requirement already satisfied: pandocfilters>=1.4.1 in c:\\users\\mi\\anaconda3\\lib\\site-packages (from nbconvert>=4.2->jupyter-contrib-nbextensions) (1.4.2)\n",
      "Requirement already satisfied: nbformat>=4.4 in c:\\users\\mi\\anaconda3\\lib\\site-packages (from nbconvert>=4.2->jupyter-contrib-nbextensions) (5.0.4)\n",
      "Requirement already satisfied: bleach in c:\\users\\mi\\anaconda3\\lib\\site-packages (from nbconvert>=4.2->jupyter-contrib-nbextensions) (3.1.0)\n",
      "Requirement already satisfied: jinja2>=2.4 in c:\\users\\mi\\anaconda3\\lib\\site-packages (from nbconvert>=4.2->jupyter-contrib-nbextensions) (2.11.1)\n",
      "Requirement already satisfied: entrypoints>=0.2.2 in c:\\users\\mi\\anaconda3\\lib\\site-packages (from nbconvert>=4.2->jupyter-contrib-nbextensions) (0.3)\n",
      "Requirement already satisfied: testpath in c:\\users\\mi\\anaconda3\\lib\\site-packages (from nbconvert>=4.2->jupyter-contrib-nbextensions) (0.4.4)\n",
      "Requirement already satisfied: pygments in c:\\users\\mi\\anaconda3\\lib\\site-packages (from nbconvert>=4.2->jupyter-contrib-nbextensions) (2.5.2)\n",
      "Requirement already satisfied: defusedxml in c:\\users\\mi\\anaconda3\\lib\\site-packages (from nbconvert>=4.2->jupyter-contrib-nbextensions) (0.6.0)\n",
      "Requirement already satisfied: mistune<2,>=0.8.1 in c:\\users\\mi\\anaconda3\\lib\\site-packages (from nbconvert>=4.2->jupyter-contrib-nbextensions) (0.8.4)\n",
      "Requirement already satisfied: six in c:\\users\\mi\\anaconda3\\lib\\site-packages (from traitlets>=4.1->jupyter-contrib-nbextensions) (1.14.0)\n",
      "Requirement already satisfied: decorator in c:\\users\\mi\\anaconda3\\lib\\site-packages (from traitlets>=4.1->jupyter-contrib-nbextensions) (4.4.1)\n",
      "Requirement already satisfied: pyzmq>=17 in c:\\users\\mi\\anaconda3\\lib\\site-packages (from notebook>=4.0->jupyter-contrib-nbextensions) (18.1.1)\n",
      "Requirement already satisfied: prometheus-client in c:\\users\\mi\\anaconda3\\lib\\site-packages (from notebook>=4.0->jupyter-contrib-nbextensions) (0.7.1)\n",
      "Requirement already satisfied: ipykernel in c:\\users\\mi\\anaconda3\\lib\\site-packages (from notebook>=4.0->jupyter-contrib-nbextensions) (5.1.4)\n",
      "Requirement already satisfied: Send2Trash in c:\\users\\mi\\anaconda3\\lib\\site-packages (from notebook>=4.0->jupyter-contrib-nbextensions) (1.5.0)\n",
      "Requirement already satisfied: jupyter-client>=5.3.4 in c:\\users\\mi\\anaconda3\\lib\\site-packages (from notebook>=4.0->jupyter-contrib-nbextensions) (5.3.4)\n",
      "Requirement already satisfied: terminado>=0.8.1 in c:\\users\\mi\\anaconda3\\lib\\site-packages (from notebook>=4.0->jupyter-contrib-nbextensions) (0.8.3)\n",
      "Requirement already satisfied: setuptools in c:\\users\\mi\\anaconda3\\lib\\site-packages (from jupyter-contrib-core>=0.3.3->jupyter-contrib-nbextensions) (45.2.0.post20200210)\n",
      "Requirement already satisfied: ipython in c:\\users\\mi\\anaconda3\\lib\\site-packages (from jupyter-latex-envs>=1.3.8->jupyter-contrib-nbextensions) (7.12.0)\n",
      "Requirement already satisfied: pywin32>=1.0; sys_platform == \"win32\" in c:\\users\\mi\\anaconda3\\lib\\site-packages (from jupyter-core->jupyter-contrib-nbextensions) (227)\n",
      "Requirement already satisfied: jsonschema!=2.5.0,>=2.4 in c:\\users\\mi\\anaconda3\\lib\\site-packages (from nbformat>=4.4->nbconvert>=4.2->jupyter-contrib-nbextensions) (3.2.0)\n",
      "Requirement already satisfied: webencodings in c:\\users\\mi\\anaconda3\\lib\\site-packages (from bleach->nbconvert>=4.2->jupyter-contrib-nbextensions) (0.5.1)\n",
      "Requirement already satisfied: MarkupSafe>=0.23 in c:\\users\\mi\\anaconda3\\lib\\site-packages (from jinja2>=2.4->nbconvert>=4.2->jupyter-contrib-nbextensions) (1.1.1)\n",
      "Requirement already satisfied: python-dateutil>=2.1 in c:\\users\\mi\\anaconda3\\lib\\site-packages (from jupyter-client>=5.3.4->notebook>=4.0->jupyter-contrib-nbextensions) (2.8.1)\n",
      "Requirement already satisfied: pickleshare in c:\\users\\mi\\anaconda3\\lib\\site-packages (from ipython->jupyter-latex-envs>=1.3.8->jupyter-contrib-nbextensions) (0.7.5)\n",
      "Requirement already satisfied: colorama; sys_platform == \"win32\" in c:\\users\\mi\\anaconda3\\lib\\site-packages (from ipython->jupyter-latex-envs>=1.3.8->jupyter-contrib-nbextensions) (0.4.3)\n",
      "Requirement already satisfied: jedi>=0.10 in c:\\users\\mi\\anaconda3\\lib\\site-packages (from ipython->jupyter-latex-envs>=1.3.8->jupyter-contrib-nbextensions) (0.14.1)\n",
      "Requirement already satisfied: backcall in c:\\users\\mi\\anaconda3\\lib\\site-packages (from ipython->jupyter-latex-envs>=1.3.8->jupyter-contrib-nbextensions) (0.1.0)\n",
      "Requirement already satisfied: prompt-toolkit!=3.0.0,!=3.0.1,<3.1.0,>=2.0.0 in c:\\users\\mi\\anaconda3\\lib\\site-packages (from ipython->jupyter-latex-envs>=1.3.8->jupyter-contrib-nbextensions) (3.0.3)\n",
      "Requirement already satisfied: pyrsistent>=0.14.0 in c:\\users\\mi\\anaconda3\\lib\\site-packages (from jsonschema!=2.5.0,>=2.4->nbformat>=4.4->nbconvert>=4.2->jupyter-contrib-nbextensions) (0.15.7)\n",
      "Requirement already satisfied: attrs>=17.4.0 in c:\\users\\mi\\anaconda3\\lib\\site-packages (from jsonschema!=2.5.0,>=2.4->nbformat>=4.4->nbconvert>=4.2->jupyter-contrib-nbextensions) (19.3.0)\n",
      "Requirement already satisfied: importlib-metadata; python_version < \"3.8\" in c:\\users\\mi\\anaconda3\\lib\\site-packages (from jsonschema!=2.5.0,>=2.4->nbformat>=4.4->nbconvert>=4.2->jupyter-contrib-nbextensions) (1.5.0)\n",
      "Requirement already satisfied: parso>=0.5.0 in c:\\users\\mi\\anaconda3\\lib\\site-packages (from jedi>=0.10->ipython->jupyter-latex-envs>=1.3.8->jupyter-contrib-nbextensions) (0.5.2)\n",
      "Requirement already satisfied: wcwidth in c:\\users\\mi\\anaconda3\\lib\\site-packages (from prompt-toolkit!=3.0.0,!=3.0.1,<3.1.0,>=2.0.0->ipython->jupyter-latex-envs>=1.3.8->jupyter-contrib-nbextensions) (0.1.8)\n",
      "Requirement already satisfied: zipp>=0.5 in c:\\users\\mi\\anaconda3\\lib\\site-packages (from importlib-metadata; python_version < \"3.8\"->jsonschema!=2.5.0,>=2.4->nbformat>=4.4->nbconvert>=4.2->jupyter-contrib-nbextensions) (2.2.0)\n",
      "Building wheels for collected packages: jupyter-nbextensions-configurator, jupyter-latex-envs\n",
      "  Building wheel for jupyter-nbextensions-configurator (setup.py): started\n",
      "  Building wheel for jupyter-nbextensions-configurator (setup.py): finished with status 'done'\n",
      "  Created wheel for jupyter-nbextensions-configurator: filename=jupyter_nbextensions_configurator-0.4.1-py2.py3-none-any.whl size=465829 sha256=314849c8306882ad21406dc2aefe778a6294384aed9ab179b363073bcac1e692\n",
      "  Stored in directory: c:\\users\\mi\\appdata\\local\\pip\\cache\\wheels\\8d\\c4\\b5\\e4b61f624036f83566580d61f24af7b73180b1361ee1ab3722\n",
      "  Building wheel for jupyter-latex-envs (setup.py): started\n",
      "  Building wheel for jupyter-latex-envs (setup.py): finished with status 'done'\n",
      "  Created wheel for jupyter-latex-envs: filename=jupyter_latex_envs-1.4.6-py2.py3-none-any.whl size=963399 sha256=f2027325be3ef9bb46242ffa8074bf25e9659592d68fbbf4e0c7fff238e310b8\n",
      "  Stored in directory: c:\\users\\mi\\appdata\\local\\pip\\cache\\wheels\\a0\\95\\26\\4cf34fb92765c95fb7851fd447511594bcc3a50e504bd09af9\n",
      "Successfully built jupyter-nbextensions-configurator jupyter-latex-envs\n",
      "Installing collected packages: jupyter-contrib-core, jupyter-nbextensions-configurator, jupyter-highlight-selected-word, jupyter-latex-envs, jupyter-contrib-nbextensions\n",
      "Successfully installed jupyter-contrib-core-0.3.3 jupyter-contrib-nbextensions-0.5.1 jupyter-highlight-selected-word-0.2.0 jupyter-latex-envs-1.4.6 jupyter-nbextensions-configurator-0.4.1\n"
     ]
    }
   ],
   "source": [
    "!pip install jupyter-contrib-nbextensions"
   ]
  },
  {
   "cell_type": "code",
   "execution_count": 10,
   "metadata": {},
   "outputs": [
    {
     "name": "stdout",
     "output_type": "stream",
     "text": [
      "Requirement already satisfied: jupyter-nbextensions-configurator in c:\\users\\mi\\anaconda3\\lib\\site-packages (0.4.1)\n",
      "Requirement already satisfied: jupyter-contrib-core>=0.3.3 in c:\\users\\mi\\anaconda3\\lib\\site-packages (from jupyter-nbextensions-configurator) (0.3.3)\n",
      "Requirement already satisfied: pyyaml in c:\\users\\mi\\anaconda3\\lib\\site-packages (from jupyter-nbextensions-configurator) (5.3)\n",
      "Requirement already satisfied: notebook>=4.0 in c:\\users\\mi\\anaconda3\\lib\\site-packages (from jupyter-nbextensions-configurator) (6.0.3)\n",
      "Requirement already satisfied: traitlets in c:\\users\\mi\\anaconda3\\lib\\site-packages (from jupyter-nbextensions-configurator) (4.3.3)\n",
      "Requirement already satisfied: jupyter-core in c:\\users\\mi\\anaconda3\\lib\\site-packages (from jupyter-nbextensions-configurator) (4.6.1)\n",
      "Requirement already satisfied: tornado in c:\\users\\mi\\anaconda3\\lib\\site-packages (from jupyter-nbextensions-configurator) (6.0.3)\n",
      "Requirement already satisfied: setuptools in c:\\users\\mi\\anaconda3\\lib\\site-packages (from jupyter-contrib-core>=0.3.3->jupyter-nbextensions-configurator) (45.2.0.post20200210)\n",
      "Requirement already satisfied: Send2Trash in c:\\users\\mi\\anaconda3\\lib\\site-packages (from notebook>=4.0->jupyter-nbextensions-configurator) (1.5.0)\n",
      "Requirement already satisfied: jinja2 in c:\\users\\mi\\anaconda3\\lib\\site-packages (from notebook>=4.0->jupyter-nbextensions-configurator) (2.11.1)\n",
      "Requirement already satisfied: ipykernel in c:\\users\\mi\\anaconda3\\lib\\site-packages (from notebook>=4.0->jupyter-nbextensions-configurator) (5.1.4)\n",
      "Requirement already satisfied: pyzmq>=17 in c:\\users\\mi\\anaconda3\\lib\\site-packages (from notebook>=4.0->jupyter-nbextensions-configurator) (18.1.1)\n",
      "Requirement already satisfied: nbformat in c:\\users\\mi\\anaconda3\\lib\\site-packages (from notebook>=4.0->jupyter-nbextensions-configurator) (5.0.4)\n",
      "Requirement already satisfied: ipython-genutils in c:\\users\\mi\\anaconda3\\lib\\site-packages (from notebook>=4.0->jupyter-nbextensions-configurator) (0.2.0)\n",
      "Requirement already satisfied: terminado>=0.8.1 in c:\\users\\mi\\anaconda3\\lib\\site-packages (from notebook>=4.0->jupyter-nbextensions-configurator) (0.8.3)\n",
      "Requirement already satisfied: nbconvert in c:\\users\\mi\\anaconda3\\lib\\site-packages (from notebook>=4.0->jupyter-nbextensions-configurator) (5.6.1)\n",
      "Requirement already satisfied: jupyter-client>=5.3.4 in c:\\users\\mi\\anaconda3\\lib\\site-packages (from notebook>=4.0->jupyter-nbextensions-configurator) (5.3.4)\n",
      "Requirement already satisfied: prometheus-client in c:\\users\\mi\\anaconda3\\lib\\site-packages (from notebook>=4.0->jupyter-nbextensions-configurator) (0.7.1)\n",
      "Requirement already satisfied: decorator in c:\\users\\mi\\anaconda3\\lib\\site-packages (from traitlets->jupyter-nbextensions-configurator) (4.4.1)\n",
      "Requirement already satisfied: six in c:\\users\\mi\\anaconda3\\lib\\site-packages (from traitlets->jupyter-nbextensions-configurator) (1.14.0)\n",
      "Requirement already satisfied: pywin32>=1.0; sys_platform == \"win32\" in c:\\users\\mi\\anaconda3\\lib\\site-packages (from jupyter-core->jupyter-nbextensions-configurator) (227)\n",
      "Requirement already satisfied: MarkupSafe>=0.23 in c:\\users\\mi\\anaconda3\\lib\\site-packages (from jinja2->notebook>=4.0->jupyter-nbextensions-configurator) (1.1.1)\n",
      "Requirement already satisfied: ipython>=5.0.0 in c:\\users\\mi\\anaconda3\\lib\\site-packages (from ipykernel->notebook>=4.0->jupyter-nbextensions-configurator) (7.12.0)\n",
      "Requirement already satisfied: jsonschema!=2.5.0,>=2.4 in c:\\users\\mi\\anaconda3\\lib\\site-packages (from nbformat->notebook>=4.0->jupyter-nbextensions-configurator) (3.2.0)\n",
      "Requirement already satisfied: pandocfilters>=1.4.1 in c:\\users\\mi\\anaconda3\\lib\\site-packages (from nbconvert->notebook>=4.0->jupyter-nbextensions-configurator) (1.4.2)\n",
      "Requirement already satisfied: defusedxml in c:\\users\\mi\\anaconda3\\lib\\site-packages (from nbconvert->notebook>=4.0->jupyter-nbextensions-configurator) (0.6.0)\n",
      "Requirement already satisfied: testpath in c:\\users\\mi\\anaconda3\\lib\\site-packages (from nbconvert->notebook>=4.0->jupyter-nbextensions-configurator) (0.4.4)\n",
      "Requirement already satisfied: entrypoints>=0.2.2 in c:\\users\\mi\\anaconda3\\lib\\site-packages (from nbconvert->notebook>=4.0->jupyter-nbextensions-configurator) (0.3)\n",
      "Requirement already satisfied: pygments in c:\\users\\mi\\anaconda3\\lib\\site-packages (from nbconvert->notebook>=4.0->jupyter-nbextensions-configurator) (2.5.2)\n",
      "Requirement already satisfied: mistune<2,>=0.8.1 in c:\\users\\mi\\anaconda3\\lib\\site-packages (from nbconvert->notebook>=4.0->jupyter-nbextensions-configurator) (0.8.4)\n",
      "Requirement already satisfied: bleach in c:\\users\\mi\\anaconda3\\lib\\site-packages (from nbconvert->notebook>=4.0->jupyter-nbextensions-configurator) (3.1.0)\n",
      "Requirement already satisfied: python-dateutil>=2.1 in c:\\users\\mi\\anaconda3\\lib\\site-packages (from jupyter-client>=5.3.4->notebook>=4.0->jupyter-nbextensions-configurator) (2.8.1)\n",
      "Requirement already satisfied: jedi>=0.10 in c:\\users\\mi\\anaconda3\\lib\\site-packages (from ipython>=5.0.0->ipykernel->notebook>=4.0->jupyter-nbextensions-configurator) (0.14.1)\n",
      "Requirement already satisfied: backcall in c:\\users\\mi\\anaconda3\\lib\\site-packages (from ipython>=5.0.0->ipykernel->notebook>=4.0->jupyter-nbextensions-configurator) (0.1.0)\n",
      "Requirement already satisfied: pickleshare in c:\\users\\mi\\anaconda3\\lib\\site-packages (from ipython>=5.0.0->ipykernel->notebook>=4.0->jupyter-nbextensions-configurator) (0.7.5)\n",
      "Requirement already satisfied: prompt-toolkit!=3.0.0,!=3.0.1,<3.1.0,>=2.0.0 in c:\\users\\mi\\anaconda3\\lib\\site-packages (from ipython>=5.0.0->ipykernel->notebook>=4.0->jupyter-nbextensions-configurator) (3.0.3)\n",
      "Requirement already satisfied: colorama; sys_platform == \"win32\" in c:\\users\\mi\\anaconda3\\lib\\site-packages (from ipython>=5.0.0->ipykernel->notebook>=4.0->jupyter-nbextensions-configurator) (0.4.3)\n",
      "Requirement already satisfied: attrs>=17.4.0 in c:\\users\\mi\\anaconda3\\lib\\site-packages (from jsonschema!=2.5.0,>=2.4->nbformat->notebook>=4.0->jupyter-nbextensions-configurator) (19.3.0)\n",
      "Requirement already satisfied: importlib-metadata; python_version < \"3.8\" in c:\\users\\mi\\anaconda3\\lib\\site-packages (from jsonschema!=2.5.0,>=2.4->nbformat->notebook>=4.0->jupyter-nbextensions-configurator) (1.5.0)\n",
      "Requirement already satisfied: pyrsistent>=0.14.0 in c:\\users\\mi\\anaconda3\\lib\\site-packages (from jsonschema!=2.5.0,>=2.4->nbformat->notebook>=4.0->jupyter-nbextensions-configurator) (0.15.7)\n",
      "Requirement already satisfied: webencodings in c:\\users\\mi\\anaconda3\\lib\\site-packages (from bleach->nbconvert->notebook>=4.0->jupyter-nbextensions-configurator) (0.5.1)\n",
      "Requirement already satisfied: parso>=0.5.0 in c:\\users\\mi\\anaconda3\\lib\\site-packages (from jedi>=0.10->ipython>=5.0.0->ipykernel->notebook>=4.0->jupyter-nbextensions-configurator) (0.5.2)\n",
      "Requirement already satisfied: wcwidth in c:\\users\\mi\\anaconda3\\lib\\site-packages (from prompt-toolkit!=3.0.0,!=3.0.1,<3.1.0,>=2.0.0->ipython>=5.0.0->ipykernel->notebook>=4.0->jupyter-nbextensions-configurator) (0.1.8)\n",
      "Requirement already satisfied: zipp>=0.5 in c:\\users\\mi\\anaconda3\\lib\\site-packages (from importlib-metadata; python_version < \"3.8\"->jsonschema!=2.5.0,>=2.4->nbformat->notebook>=4.0->jupyter-nbextensions-configurator) (2.2.0)\n"
     ]
    }
   ],
   "source": [
    "!pip install jupyter-nbextensions-configurator"
   ]
  },
  {
   "cell_type": "code",
   "execution_count": null,
   "metadata": {},
   "outputs": [],
   "source": [
    "!jupyter contrib nbextension install"
   ]
  },
  {
   "cell_type": "code",
   "execution_count": null,
   "metadata": {},
   "outputs": [],
   "source": [
    "jupyter contrib nbextension install"
   ]
  },
  {
   "cell_type": "code",
   "execution_count": null,
   "metadata": {},
   "outputs": [],
   "source": []
  }
 ],
 "metadata": {
  "kernelspec": {
   "display_name": "Python 3",
   "language": "python",
   "name": "python3"
  },
  "language_info": {
   "codemirror_mode": {
    "name": "ipython",
    "version": 3
   },
   "file_extension": ".py",
   "mimetype": "text/x-python",
   "name": "python",
   "nbconvert_exporter": "python",
   "pygments_lexer": "ipython3",
   "version": "3.7.6"
  }
 },
 "nbformat": 4,
 "nbformat_minor": 4
}
